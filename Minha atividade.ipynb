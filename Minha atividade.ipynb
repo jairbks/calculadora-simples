{
  "nbformat": 4,
  "nbformat_minor": 0,
  "metadata": {
    "colab": {
      "provenance": [],
      "toc_visible": true
    },
    "kernelspec": {
      "name": "python3",
      "display_name": "Python 3"
    },
    "language_info": {
      "name": "python"
    }
  },
  "cells": [
    {
      "cell_type": "code",
      "source": [
        "print(\"Bem-vindo á Calculadora Simples de Jair!\")\n",
        "\n",
        "\n",
        "while True:\n",
        "\n",
        "  num1 = float(input(\"Digite a primeiro número: \"))\n",
        "  num2 = float(input(\"Digite o segundo número: \"))\n",
        "\n",
        "  operação = input(\"Digite a operação (+, -, *, /) ou 's' para sair do programa: \")\n",
        "\n",
        "  if operação == \"s\":\n",
        "    print(\"Encerrando o programa.Ate mais!\")\n",
        "    break\n",
        "  elif operação == \"+\":\n",
        "    print(\"Resultado da Soma:\", num1 + num2)\n",
        "  elif operação == \"-\":\n",
        "    print(\"Resultado da Subtração:\", num1 - num2)\n",
        "  elif operação == \"*\":\n",
        "    print(\"Resultado da Multiplicação:\", num1 * num2)\n",
        "  elif operação == \"/\":\n",
        "    print(\"Resultado da Divisão:\", num1 / num2)\n",
        "  elif operação == \"/\":\n",
        "    if num2 == \"0\":\n",
        "      print(\"Erro: não é possivel Dividir por zero!\")\n",
        "    else:\n",
        "      print(\"Resultado da Divisão:\", num1 /num2)\n",
        "  else:\n",
        "    print(\"Operação invalida. Por favor, tente novamente!\")\n",
        "\n"
      ],
      "metadata": {
        "colab": {
          "base_uri": "https://localhost:8080/"
        },
        "id": "sUEItbIeuIe2",
        "outputId": "a157b6c7-2d44-4c8f-88cd-511c2f7b52c6"
      },
      "execution_count": null,
      "outputs": [
        {
          "output_type": "stream",
          "name": "stdout",
          "text": [
            "Bem-vindo á Calculadora Simples de Jair!\n",
            "Digite a primeiro número: 5\n",
            "Digite o segundo número: 5\n",
            "Digite a operação (+, -, *, /) ou 's' para sair do programa: s\n",
            "Encerrando o programa.Ate mais!\n"
          ]
        }
      ]
    },
    {
      "cell_type": "code",
      "source": [
        "print(\"Bem-vindo a Calculadora Simples de Jair!\")\n",
        "\n",
        "while True:\n",
        "  num1 = float(input(\"Digite o primeiro número: \"))\n",
        "  num2 = float(input(\"Digite o segundo número: \"))\n",
        "\n",
        "  operação = input(\"Digite a Operação (+, -, *, /) ou 'S' para Sair do Programa:  \")\n",
        "  if operação.upper() == \"S\":\n",
        "    print(\"Encerrando o Programa. Até Mais!\")\n",
        "    break\n",
        "  elif operação == \"+\":\n",
        "    print(\"Resultado da soma:\", num1 + num2)\n",
        "  elif operação == \"-\":\n",
        "    print(\"Resultado da subtração:\", num1 - num2)\n",
        "  elif operação == \"*\":\n",
        "    print(\"Resultado da multiplicação:\", num1 * num2)\n",
        "  elif operação == \"/\":\n",
        "      if num2 == 0:\n",
        "          print(\"Erro: Não é Possivel Dividir por Zero!\")\n",
        "      else:\n",
        "          print(\"Resultado da Divisão:\", num1 / num2)\n",
        "\n",
        "\n"
      ],
      "metadata": {
        "colab": {
          "base_uri": "https://localhost:8080/"
        },
        "id": "DPM6VUejxg4G",
        "outputId": "7162441c-1fd2-4d76-a7e9-317de9a2f4f5"
      },
      "execution_count": 47,
      "outputs": [
        {
          "output_type": "stream",
          "name": "stdout",
          "text": [
            "Bem-vindo a Calculadora Simples de Jair!\n",
            "Digite o primeiro número: 5\n",
            "Digite o segundo número: 5\n",
            "Digite a Operação (+, -, *, /) ou 'S' para Sair do Programa:  s\n",
            "Encerrando o Programa. Até Mais!\n"
          ]
        }
      ]
    }
  ]
}